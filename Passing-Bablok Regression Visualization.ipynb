{
 "cells": [
  {
   "cell_type": "code",
   "execution_count": 16,
   "metadata": {},
   "outputs": [],
   "source": [
    "import math\n",
    "import numpy as np\n",
    "from tqdm import tqdm\n",
    "import matplotlib.pyplot as plt"
   ]
  },
  {
   "cell_type": "code",
   "execution_count": 4,
   "metadata": {},
   "outputs": [],
   "source": [
    "def calc_intercept(method1, method2, gradient):\n",
    "    \"\"\"Calculate intercept given points and a gradient.\"\"\"\n",
    "    temp = []\n",
    "    for i in range(len(method1)):\n",
    "        temp.append(method2[i] - gradient * method1[i])\n",
    "    return np.median(temp)\n"
   ]
  },
  {
   "cell_type": "code",
   "execution_count": 18,
   "metadata": {
    "scrolled": true
   },
   "outputs": [
    {
     "name": "stderr",
     "output_type": "stream",
     "text": [
      "100%|██████████| 99/99 [00:00<00:00, 3439.89it/s]\n"
     ]
    }
   ],
   "source": [
    "method1 = np.random.rand(100)\n",
    "method2 = np.random.rand(100)\n",
    "n_points = len(method1)\n",
    "# sv is a list of the gradients between of each pair of points\n",
    "sv = []\n",
    "# k is the number of gradients less than -1\n",
    "k = 0\n",
    "for i in tqdm(range(n_points - 1)):\n",
    "    for j in range(i + 1, n_points):\n",
    "        dy = method2[j] - method2[i]\n",
    "        dx = method1[j] - method1[i]\n",
    "        # Ignore gradients that are vertical (ie the x values of the points\n",
    "        # are the same)\n",
    "        if dx != 0:\n",
    "            gradient = dy / dx\n",
    "        elif dy < 0:\n",
    "            gradient = -1.e+23\n",
    "        elif dy > 0:\n",
    "            gradient = 1.e+23\n",
    "        else:\n",
    "            gradient = None\n",
    "        if gradient is not None:\n",
    "            sv.append(gradient)\n",
    "            k += (gradient < -1)\n",
    "# Sort the gradients into ascending order\n",
    "sv.sort()"
   ]
  },
  {
   "cell_type": "code",
   "execution_count": 19,
   "metadata": {},
   "outputs": [],
   "source": [
    "#\n",
    "# Find the estimated gradient and confidence limits\n",
    "#\n",
    "m0 = (len(sv) - 1) / 2\n",
    "if m0 == int(m0):\n",
    "    # If odd\n",
    "    gradient_est = sv[k + int(m0)]\n",
    "else:\n",
    "    # If even\n",
    "    gradient_est = 0.5 * (sv[k + int(m0 - 0.5)] + sv[k + int(m0 + 0.5)])\n",
    "# Calculate the index of the upper and lower confidence bounds\n",
    "w = 1.96\n",
    "ci = w * math.sqrt((n_points * (n_points - 1) * (2 * n_points + 5)) / 18)\n",
    "n_gradients = len(sv)\n",
    "m1 = int(round((n_gradients - ci) / 2))\n",
    "m2 = n_gradients - m1 - 1\n",
    "# Calculate the lower and upper bounds of the gradient\n",
    "(gradient_lb, gradient_ub) = (sv[k + m1], sv[k + m2])"
   ]
  },
  {
   "cell_type": "code",
   "execution_count": 20,
   "metadata": {},
   "outputs": [],
   "source": [
    "# Calculate the intercept as the median of all the intercepts of all the\n",
    "# lines connecting each pair of points\n",
    "int_est = calc_intercept(method1, method2, gradient_est)\n",
    "int_ub = calc_intercept(method1, method2, gradient_lb)\n",
    "int_lb = calc_intercept(method1, method2, gradient_ub)"
   ]
  },
  {
   "cell_type": "code",
   "execution_count": 21,
   "metadata": {},
   "outputs": [
    {
     "name": "stdout",
     "output_type": "stream",
     "text": [
      "Gradient = 1.04 (1.48 - 0.75)\n",
      "Y-intercept = -0.01 (0.13 - -0.23)\n"
     ]
    }
   ],
   "source": [
    "print(f'Gradient = {gradient_est:4.2f} ({gradient_ub:4.2f} - {gradient_lb:4.2f})')\n",
    "print(f'Y-intercept = {int_est:4.2f} ({int_ub:4.2f} - {int_lb:4.2f})')"
   ]
  },
  {
   "cell_type": "code",
   "execution_count": 22,
   "metadata": {},
   "outputs": [
    {
     "name": "stdout",
     "output_type": "stream",
     "text": [
      "1.0427778853878764\n"
     ]
    }
   ],
   "source": [
    "print(gradient_est)"
   ]
  },
  {
   "cell_type": "code",
   "execution_count": 24,
   "metadata": {},
   "outputs": [
    {
     "data": {
      "image/png": "[encoded data removed]",
      "text/plain": [
       "<Figure size 432x288 with 1 Axes>"
      ]
     },
     "metadata": {},
     "output_type": "display_data"
    }
   ],
   "source": [
    "ax = plt.axes()\n",
    "ax.set_title('Passing-Bablok Regression')\n",
    "ax.set_xlabel('Method 1')\n",
    "ax.set_ylabel('Method 2')\n",
    "# Scatter plot\n",
    "ax.scatter(method1, method2, c='k', s=20, alpha=0.6, marker='o')\n",
    "# Get axis limits\n",
    "left, right = plt.xlim()\n",
    "bottom, top = plt.ylim()\n",
    "# Change axis limits\n",
    "ax.set_xlim(0, right)\n",
    "ax.set_ylim(0, top)\n",
    "# Reference line\n",
    "label = 'Reference line'\n",
    "ax.plot([left, right], [left, right], c='grey', ls='--', label=label)\n",
    "# Passing-Bablok regression line\n",
    "x = np.array([left, right])\n",
    "y = gradient_est * x + int_est\n",
    "ax.plot(x, y, label=f'{gradient_est:4.2f}x + {int_est:4.2f}')\n",
    "# Passing-Bablok regression line - confidence intervals\n",
    "x = np.array([left, right])\n",
    "y_lb = gradient_lb * x + int_lb\n",
    "y_ub = gradient_ub * x + int_ub\n",
    "label = f'Upper CI: {gradient_ub:4.2f}x + {int_ub:4.2f}'\n",
    "ax.plot(x, y_ub, c='tab:blue', alpha=0.2, label=label)\n",
    "label = f'Lower CI: {gradient_lb:4.2f}x + {int_lb:4.2f}'\n",
    "ax.plot(x, y_lb, c='tab:blue', alpha=0.2, label=label)\n",
    "ax.fill_between(x, y_ub, y_lb, alpha=0.2)\n",
    "# Set aspect ratio\n",
    "ax.set_aspect('equal')\n",
    "\n",
    "plt.xlabel('')\n",
    "plt.ylabel('')\n",
    "# Legend\n",
    "ax.legend(frameon=False)\n",
    "# Show\n",
    "plt.tick_params(axis='both', which='both', direction='in', bottom=True,\n",
    "                top=False, left=True, right=False, labelbottom=False, labelleft=False)\n",
    "# plt.savefig(\"PBR.eps\", dpi=600, bbox_inches='tight', pad_inches=0)"
   ]
  },
  {
   "cell_type": "code",
   "execution_count": null,
   "metadata": {},
   "outputs": [],
   "source": []
  }
 ],
 "metadata": {
  "kernelspec": {
   "display_name": "Python 3",
   "language": "python",
   "name": "python3"
  },
  "language_info": {
   "codemirror_mode": {
    "name": "ipython",
    "version": 3
   },
   "file_extension": ".py",
   "mimetype": "text/x-python",
   "name": "python",
   "nbconvert_exporter": "python",
   "pygments_lexer": "ipython3",
   "version": "3.7.4"
  }
 },
 "nbformat": 4,
 "nbformat_minor": 2
}
